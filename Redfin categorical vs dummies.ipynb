{
 "cells": [
  {
   "cell_type": "code",
   "execution_count": 449,
   "metadata": {
    "collapsed": false
   },
   "outputs": [
    {
     "name": "stdout",
     "output_type": "stream",
     "text": [
      "Populating the interactive namespace from numpy and matplotlib\n"
     ]
    }
   ],
   "source": [
    "## spatial weights with pysal\n",
    "import pysal as ps\n",
    "import geopandas as gpd\n",
    "import pandas as pd\n",
    "import numpy as np\n",
    "import statsmodels.formula.api as sm\n",
    "import statsmodels.api as st\n",
    "import patsy\n",
    "import numpy as np\n",
    "import glob\n",
    "import os\n",
    "drop=os.getenv('DROPBOX_LOC')\n",
    "\n",
    "from shapely.geometry import Point\n",
    "from fiona.crs import from_epsg\n",
    "import geopandas as gpd\n",
    "from pyproj import Proj\n",
    "\n",
    "import matplotlib.pyplot as plt\n",
    "import matplotlib.cm as cm, matplotlib.font_manager as fm\n",
    "import seaborn as sns\n",
    "#sns.set(style=\"darkgrid\")\n",
    "plt.style.use('fivethirtyeight')\n",
    "%pylab inline"
   ]
  },
  {
   "cell_type": "markdown",
   "metadata": {},
   "source": [
    "I grabbed a bunch of viewports' worth of redfin listings and saved them. We load all of them, and kick out dupes."
   ]
  },
  {
   "cell_type": "code",
   "execution_count": 450,
   "metadata": {
    "collapsed": false
   },
   "outputs": [],
   "source": [
    "files=glob.glob(os.path.join(drop,'Documents/Data/Housing/redfin','redfin_2017-06*'))"
   ]
  },
  {
   "cell_type": "code",
   "execution_count": 451,
   "metadata": {
    "collapsed": true
   },
   "outputs": [],
   "source": [
    "## Load and drop dupes\n",
    "keeps=[]\n",
    "for f in files:\n",
    "    temp=pd.read_csv(f,parse_dates=['SOLD DATE'])\n",
    "    keeps.append(temp)\n",
    "redfin=pd.concat(keeps)\n",
    "redfin=redfin.drop_duplicates('MLS#')"
   ]
  },
  {
   "cell_type": "markdown",
   "metadata": {},
   "source": [
    "### Basic processing "
   ]
  },
  {
   "cell_type": "code",
   "execution_count": 452,
   "metadata": {
    "collapsed": false
   },
   "outputs": [
    {
     "name": "stdout",
     "output_type": "stream",
     "text": [
      "(2327, 27)\n",
      "(2325, 27)\n"
     ]
    }
   ],
   "source": [
    "redfin=redfin.rename(columns=lambda x: x.replace(' ','_'))\n",
    "print redfin.shape\n",
    "redfin=redfin[redfin.SOLD_DATE.notnull()]\n",
    "print redfin.shape\n",
    "redfin['year']=redfin.SOLD_DATE.map(lambda x: x.year)\n",
    "redfin['month']=redfin.SOLD_DATE.map(lambda x: x.month)\n",
    "redfin['quarter']=redfin.SOLD_DATE.map(lambda x: x.quarter).astype(str)\n",
    "redfin['bldg_age_at_sale']=redfin.year-redfin.YEAR_BUILT\n",
    "redfin['sqft_100']=redfin.SQUARE_FEET/100\n",
    "redfin['sqft_100_2']=redfin['sqft_100']*redfin['sqft_100']\n",
    "redfin.LOCATION=redfin.LOCATION.replace({'Montclaire':'Montclair','Montclair Distri':'Montclair',\n",
    "                                         'Crocker Hghlands':'Crocker Highlands','Glenview (Uppr)':'Upper Glenview',\n",
    "                                        'Grand Lake/ Rose':'Grand Lake','TemescalRRidge':'Temescal Ridge',\n",
    "                                        'Oakmore Upper':'Upper Oakmore','Fruitvale Area':'Fruitvale',\n",
    "                                         'Fruitvale District':'Fruitvale'}).str.title()\n",
    "\n",
    "\n",
    "\n",
    "\n",
    "redfin[redfin.LONGITUDE.notnull()]\n",
    "redfin.LOCATION=redfin.LOCATION.str.replace('Dist.$','District').str.replace(' |\\-','_').str.replace('\\.|/|\\-','')"
   ]
  },
  {
   "cell_type": "code",
   "execution_count": 453,
   "metadata": {
    "collapsed": false
   },
   "outputs": [
    {
     "name": "stderr",
     "output_type": "stream",
     "text": [
      "C:\\Users\\akselo\\AppData\\Local\\Continuum\\Anaconda2\\lib\\site-packages\\ipykernel\\__main__.py:1: FutureWarning: currently extract(expand=None) means expand=False (return Index/Series/DataFrame) but in a future version of pandas this will be changed to expand=True (return DataFrame)\n",
      "  if __name__ == '__main__':\n"
     ]
    }
   ],
   "source": [
    "redfin['LOCATION_recode']=redfin.LOCATION.str.extract('(Glenview|Piedmont|Oakmore)').fillna('Other')\n"
   ]
  },
  {
   "cell_type": "code",
   "execution_count": 454,
   "metadata": {
    "collapsed": false
   },
   "outputs": [],
   "source": [
    "## Turn to geodataframe\n",
    "\n",
    "redfin['geometry'] = redfin.apply(lambda x: Point(x.LONGITUDE,x.LATITUDE),axis=1)\n",
    "redfin = gpd.GeoDataFrame(redfin).set_geometry(col='geometry',crs=from_epsg(4326))\n"
   ]
  },
  {
   "cell_type": "code",
   "execution_count": 455,
   "metadata": {
    "collapsed": true
   },
   "outputs": [],
   "source": [
    "## define variable groups\n",
    "\n",
    "coords = ['LONGITUDE','LATITUDE']\n",
    "xvars=['sqft_100','bldg_age_at_sale','year','BATHS','BEDS','LOCATION_recode']\n",
    "yvar=['PRICE']"
   ]
  },
  {
   "cell_type": "code",
   "execution_count": 456,
   "metadata": {
    "collapsed": false
   },
   "outputs": [
    {
     "name": "stdout",
     "output_type": "stream",
     "text": [
      "(2261, 10)\n"
     ]
    },
    {
     "data": {
      "text/html": [
       "<div>\n",
       "<table border=\"1\" class=\"dataframe\">\n",
       "  <thead>\n",
       "    <tr style=\"text-align: right;\">\n",
       "      <th></th>\n",
       "      <th>index</th>\n",
       "      <th>PRICE</th>\n",
       "      <th>sqft_100</th>\n",
       "      <th>bldg_age_at_sale</th>\n",
       "      <th>year</th>\n",
       "      <th>BATHS</th>\n",
       "      <th>BEDS</th>\n",
       "      <th>LOCATION_recode</th>\n",
       "      <th>LONGITUDE</th>\n",
       "      <th>LATITUDE</th>\n",
       "    </tr>\n",
       "  </thead>\n",
       "  <tbody>\n",
       "    <tr>\n",
       "      <th>0</th>\n",
       "      <td>0</td>\n",
       "      <td>2100000</td>\n",
       "      <td>67.83</td>\n",
       "      <td>25.0</td>\n",
       "      <td>2014</td>\n",
       "      <td>4.0</td>\n",
       "      <td>5.0</td>\n",
       "      <td>Piedmont</td>\n",
       "      <td>-122.215851</td>\n",
       "      <td>37.822084</td>\n",
       "    </tr>\n",
       "    <tr>\n",
       "      <th>1</th>\n",
       "      <td>1</td>\n",
       "      <td>3500000</td>\n",
       "      <td>63.60</td>\n",
       "      <td>44.0</td>\n",
       "      <td>2015</td>\n",
       "      <td>4.5</td>\n",
       "      <td>5.0</td>\n",
       "      <td>Piedmont</td>\n",
       "      <td>-122.213517</td>\n",
       "      <td>37.819352</td>\n",
       "    </tr>\n",
       "    <tr>\n",
       "      <th>2</th>\n",
       "      <td>2</td>\n",
       "      <td>3600000</td>\n",
       "      <td>56.41</td>\n",
       "      <td>78.0</td>\n",
       "      <td>2014</td>\n",
       "      <td>5.5</td>\n",
       "      <td>4.0</td>\n",
       "      <td>Oakmore</td>\n",
       "      <td>-122.209086</td>\n",
       "      <td>37.815662</td>\n",
       "    </tr>\n",
       "    <tr>\n",
       "      <th>3</th>\n",
       "      <td>4</td>\n",
       "      <td>2725000</td>\n",
       "      <td>53.57</td>\n",
       "      <td>68.0</td>\n",
       "      <td>2016</td>\n",
       "      <td>5.5</td>\n",
       "      <td>5.0</td>\n",
       "      <td>Piedmont</td>\n",
       "      <td>-122.216005</td>\n",
       "      <td>37.813570</td>\n",
       "    </tr>\n",
       "    <tr>\n",
       "      <th>4</th>\n",
       "      <td>5</td>\n",
       "      <td>3700998</td>\n",
       "      <td>52.14</td>\n",
       "      <td>85.0</td>\n",
       "      <td>2015</td>\n",
       "      <td>4.5</td>\n",
       "      <td>5.0</td>\n",
       "      <td>Piedmont</td>\n",
       "      <td>-122.213684</td>\n",
       "      <td>37.817055</td>\n",
       "    </tr>\n",
       "  </tbody>\n",
       "</table>\n",
       "</div>"
      ],
      "text/plain": [
       "   index    PRICE  sqft_100  bldg_age_at_sale  year  BATHS  BEDS  \\\n",
       "0      0  2100000     67.83              25.0  2014    4.0   5.0   \n",
       "1      1  3500000     63.60              44.0  2015    4.5   5.0   \n",
       "2      2  3600000     56.41              78.0  2014    5.5   4.0   \n",
       "3      4  2725000     53.57              68.0  2016    5.5   5.0   \n",
       "4      5  3700998     52.14              85.0  2015    4.5   5.0   \n",
       "\n",
       "  LOCATION_recode   LONGITUDE   LATITUDE  \n",
       "0        Piedmont -122.215851  37.822084  \n",
       "1        Piedmont -122.213517  37.819352  \n",
       "2         Oakmore -122.209086  37.815662  \n",
       "3        Piedmont -122.216005  37.813570  \n",
       "4        Piedmont -122.213684  37.817055  "
      ]
     },
     "execution_count": 456,
     "metadata": {},
     "output_type": "execute_result"
    }
   ],
   "source": [
    "subset = redfin.ix[:,yvar+xvars+coords].dropna().\\\n",
    "drop_duplicates(coords).reset_index()\n",
    "print subset.shape\n",
    "subset.head()\n"
   ]
  },
  {
   "cell_type": "code",
   "execution_count": 457,
   "metadata": {
    "collapsed": false
   },
   "outputs": [
    {
     "data": {
      "text/plain": [
       "(2261L, 1L)"
      ]
     },
     "execution_count": 457,
     "metadata": {},
     "output_type": "execute_result"
    }
   ],
   "source": [
    "w = ps.weights.KNN(subset.loc[:,coords\\\n",
    "                              ].values, k=3)\n",
    "w.transform = 'R'\n",
    "\n",
    "w.s2array.shape"
   ]
  },
  {
   "cell_type": "markdown",
   "metadata": {},
   "source": [
    "## Check glenview prices over time"
   ]
  },
  {
   "cell_type": "code",
   "execution_count": 458,
   "metadata": {
    "collapsed": false
   },
   "outputs": [
    {
     "data": {
      "text/plain": [
       "<matplotlib.axes._subplots.AxesSubplot at 0x231267f0>"
      ]
     },
     "execution_count": 458,
     "metadata": {},
     "output_type": "execute_result"
    },
    {
     "data": {
      "image/png": "[encoded data removed]",
      "text/plain": [
       "<matplotlib.figure.Figure at 0x243c4f28>"
      ]
     },
     "metadata": {},
     "output_type": "display_data"
    }
   ],
   "source": [
    "glenview = redfin[redfin.LOCATION=='Glenview']\n",
    "glenview.groupby(['year']).PRICE.quantile([.25,.5,.75]).unstack(1).plot(cmap='viridis')"
   ]
  },
  {
   "cell_type": "code",
   "execution_count": 459,
   "metadata": {
    "collapsed": false
   },
   "outputs": [
    {
     "data": {
      "image/png": "[encoded data removed]",
      "text/plain": [
       "<matplotlib.figure.Figure at 0x244d1940>"
      ]
     },
     "metadata": {},
     "output_type": "display_data"
    }
   ],
   "source": [
    "ax = sns.kdeplot(glenview.LONGITUDE,glenview.LATITUDE, shade=True, cmap='viridis');"
   ]
  },
  {
   "cell_type": "markdown",
   "metadata": {},
   "source": [
    "## Compare regressions run with categorical contrasts vs dummies\n",
    "\n",
    "I want to see how different the coefficients and model fit might be."
   ]
  },
  {
   "cell_type": "code",
   "execution_count": 460,
   "metadata": {
    "collapsed": false
   },
   "outputs": [
    {
     "data": {
      "text/plain": [
       "Index([u'LOCATION_recode'], dtype='object')"
      ]
     },
     "execution_count": 460,
     "metadata": {},
     "output_type": "execute_result"
    }
   ],
   "source": [
    "## get dummies for string vars--a bit silly since it is really just the LOCATION variable.\n",
    "\n",
    "vartypes=subset[xvars].dtypes=='object'\n",
    "vartypes=vartypes[vartypes==True].index\n",
    "vartypes"
   ]
  },
  {
   "cell_type": "code",
   "execution_count": 461,
   "metadata": {
    "collapsed": false
   },
   "outputs": [
    {
     "name": "stdout",
     "output_type": "stream",
     "text": [
      "(2261, 4)\n"
     ]
    },
    {
     "data": {
      "text/html": [
       "<div>\n",
       "<table border=\"1\" class=\"dataframe\">\n",
       "  <thead>\n",
       "    <tr style=\"text-align: right;\">\n",
       "      <th></th>\n",
       "      <th>LOCATION_recode_Glenview</th>\n",
       "      <th>LOCATION_recode_Oakmore</th>\n",
       "      <th>LOCATION_recode_Other</th>\n",
       "      <th>LOCATION_recode_Piedmont</th>\n",
       "    </tr>\n",
       "  </thead>\n",
       "  <tbody>\n",
       "    <tr>\n",
       "      <th>0</th>\n",
       "      <td>0</td>\n",
       "      <td>0</td>\n",
       "      <td>0</td>\n",
       "      <td>1</td>\n",
       "    </tr>\n",
       "    <tr>\n",
       "      <th>1</th>\n",
       "      <td>0</td>\n",
       "      <td>0</td>\n",
       "      <td>0</td>\n",
       "      <td>1</td>\n",
       "    </tr>\n",
       "    <tr>\n",
       "      <th>2</th>\n",
       "      <td>0</td>\n",
       "      <td>1</td>\n",
       "      <td>0</td>\n",
       "      <td>0</td>\n",
       "    </tr>\n",
       "    <tr>\n",
       "      <th>3</th>\n",
       "      <td>0</td>\n",
       "      <td>0</td>\n",
       "      <td>0</td>\n",
       "      <td>1</td>\n",
       "    </tr>\n",
       "    <tr>\n",
       "      <th>4</th>\n",
       "      <td>0</td>\n",
       "      <td>0</td>\n",
       "      <td>0</td>\n",
       "      <td>1</td>\n",
       "    </tr>\n",
       "  </tbody>\n",
       "</table>\n",
       "</div>"
      ],
      "text/plain": [
       "   LOCATION_recode_Glenview  LOCATION_recode_Oakmore  LOCATION_recode_Other  \\\n",
       "0                         0                        0                      0   \n",
       "1                         0                        0                      0   \n",
       "2                         0                        1                      0   \n",
       "3                         0                        0                      0   \n",
       "4                         0                        0                      0   \n",
       "\n",
       "   LOCATION_recode_Piedmont  \n",
       "0                         1  \n",
       "1                         1  \n",
       "2                         0  \n",
       "3                         1  \n",
       "4                         1  "
      ]
     },
     "execution_count": 461,
     "metadata": {},
     "output_type": "execute_result"
    }
   ],
   "source": [
    "dummies = pd.get_dummies(subset[vartypes])\n",
    "print dummies.shape\n",
    "dummies.head()"
   ]
  },
  {
   "cell_type": "code",
   "execution_count": 462,
   "metadata": {
    "collapsed": false
   },
   "outputs": [
    {
     "data": {
      "text/html": [
       "<div>\n",
       "<table border=\"1\" class=\"dataframe\">\n",
       "  <thead>\n",
       "    <tr style=\"text-align: right;\">\n",
       "      <th></th>\n",
       "      <th>index</th>\n",
       "      <th>PRICE</th>\n",
       "      <th>sqft_100</th>\n",
       "      <th>bldg_age_at_sale</th>\n",
       "      <th>year</th>\n",
       "      <th>BATHS</th>\n",
       "      <th>BEDS</th>\n",
       "      <th>LOCATION_recode</th>\n",
       "      <th>LONGITUDE</th>\n",
       "      <th>LATITUDE</th>\n",
       "      <th>LOCATION_recode_Glenview</th>\n",
       "      <th>LOCATION_recode_Oakmore</th>\n",
       "      <th>LOCATION_recode_Other</th>\n",
       "      <th>LOCATION_recode_Piedmont</th>\n",
       "    </tr>\n",
       "  </thead>\n",
       "  <tbody>\n",
       "    <tr>\n",
       "      <th>0</th>\n",
       "      <td>0</td>\n",
       "      <td>2100000</td>\n",
       "      <td>67.83</td>\n",
       "      <td>25.0</td>\n",
       "      <td>2014</td>\n",
       "      <td>4.0</td>\n",
       "      <td>5.0</td>\n",
       "      <td>Piedmont</td>\n",
       "      <td>-122.215851</td>\n",
       "      <td>37.822084</td>\n",
       "      <td>0</td>\n",
       "      <td>0</td>\n",
       "      <td>0</td>\n",
       "      <td>1</td>\n",
       "    </tr>\n",
       "    <tr>\n",
       "      <th>1</th>\n",
       "      <td>1</td>\n",
       "      <td>3500000</td>\n",
       "      <td>63.60</td>\n",
       "      <td>44.0</td>\n",
       "      <td>2015</td>\n",
       "      <td>4.5</td>\n",
       "      <td>5.0</td>\n",
       "      <td>Piedmont</td>\n",
       "      <td>-122.213517</td>\n",
       "      <td>37.819352</td>\n",
       "      <td>0</td>\n",
       "      <td>0</td>\n",
       "      <td>0</td>\n",
       "      <td>1</td>\n",
       "    </tr>\n",
       "    <tr>\n",
       "      <th>2</th>\n",
       "      <td>2</td>\n",
       "      <td>3600000</td>\n",
       "      <td>56.41</td>\n",
       "      <td>78.0</td>\n",
       "      <td>2014</td>\n",
       "      <td>5.5</td>\n",
       "      <td>4.0</td>\n",
       "      <td>Oakmore</td>\n",
       "      <td>-122.209086</td>\n",
       "      <td>37.815662</td>\n",
       "      <td>0</td>\n",
       "      <td>1</td>\n",
       "      <td>0</td>\n",
       "      <td>0</td>\n",
       "    </tr>\n",
       "    <tr>\n",
       "      <th>3</th>\n",
       "      <td>4</td>\n",
       "      <td>2725000</td>\n",
       "      <td>53.57</td>\n",
       "      <td>68.0</td>\n",
       "      <td>2016</td>\n",
       "      <td>5.5</td>\n",
       "      <td>5.0</td>\n",
       "      <td>Piedmont</td>\n",
       "      <td>-122.216005</td>\n",
       "      <td>37.813570</td>\n",
       "      <td>0</td>\n",
       "      <td>0</td>\n",
       "      <td>0</td>\n",
       "      <td>1</td>\n",
       "    </tr>\n",
       "    <tr>\n",
       "      <th>4</th>\n",
       "      <td>5</td>\n",
       "      <td>3700998</td>\n",
       "      <td>52.14</td>\n",
       "      <td>85.0</td>\n",
       "      <td>2015</td>\n",
       "      <td>4.5</td>\n",
       "      <td>5.0</td>\n",
       "      <td>Piedmont</td>\n",
       "      <td>-122.213684</td>\n",
       "      <td>37.817055</td>\n",
       "      <td>0</td>\n",
       "      <td>0</td>\n",
       "      <td>0</td>\n",
       "      <td>1</td>\n",
       "    </tr>\n",
       "  </tbody>\n",
       "</table>\n",
       "</div>"
      ],
      "text/plain": [
       "   index    PRICE  sqft_100  bldg_age_at_sale  year  BATHS  BEDS  \\\n",
       "0      0  2100000     67.83              25.0  2014    4.0   5.0   \n",
       "1      1  3500000     63.60              44.0  2015    4.5   5.0   \n",
       "2      2  3600000     56.41              78.0  2014    5.5   4.0   \n",
       "3      4  2725000     53.57              68.0  2016    5.5   5.0   \n",
       "4      5  3700998     52.14              85.0  2015    4.5   5.0   \n",
       "\n",
       "  LOCATION_recode   LONGITUDE   LATITUDE  LOCATION_recode_Glenview  \\\n",
       "0        Piedmont -122.215851  37.822084                         0   \n",
       "1        Piedmont -122.213517  37.819352                         0   \n",
       "2         Oakmore -122.209086  37.815662                         0   \n",
       "3        Piedmont -122.216005  37.813570                         0   \n",
       "4        Piedmont -122.213684  37.817055                         0   \n",
       "\n",
       "   LOCATION_recode_Oakmore  LOCATION_recode_Other  LOCATION_recode_Piedmont  \n",
       "0                        0                      0                         1  \n",
       "1                        0                      0                         1  \n",
       "2                        1                      0                         0  \n",
       "3                        0                      0                         1  \n",
       "4                        0                      0                         1  "
      ]
     },
     "execution_count": 462,
     "metadata": {},
     "output_type": "execute_result"
    }
   ],
   "source": [
    "subset=subset.merge(dummies,left_index=True,right_index=True)\n",
    "subset.head()"
   ]
  },
  {
   "cell_type": "code",
   "execution_count": 463,
   "metadata": {
    "collapsed": false
   },
   "outputs": [],
   "source": [
    "## Get a list of all enumerated dummy var names, with LOCATION prepended\n",
    "fulldummylist =[] \n",
    "for v in vartypes:\n",
    "    for c in subset.columns:\n",
    "        #print c\n",
    "        if v in c and v!=c:\n",
    "            \n",
    "            fulldummylist.append(c)\n",
    "\n",
    "## remove glenview so dummies are not perfectly collinear\n",
    "fulldummylist.remove('LOCATION_recode_Glenview')"
   ]
  },
  {
   "cell_type": "code",
   "execution_count": 464,
   "metadata": {
    "collapsed": false
   },
   "outputs": [
    {
     "data": {
      "text/plain": [
       "['sqft_100', 'bldg_age_at_sale', 'year', 'BATHS', 'BEDS', 'LOCATION_recode']"
      ]
     },
     "execution_count": 464,
     "metadata": {},
     "output_type": "execute_result"
    }
   ],
   "source": [
    "xvars"
   ]
  },
  {
   "cell_type": "code",
   "execution_count": 465,
   "metadata": {
    "collapsed": false
   },
   "outputs": [],
   "source": [
    "xvars_num=list(xvars)\n",
    "for rem in vartypes:\n",
    "    xvars_num.remove(rem)\n"
   ]
  },
  {
   "cell_type": "code",
   "execution_count": 466,
   "metadata": {
    "collapsed": false
   },
   "outputs": [
    {
     "data": {
      "text/html": [
       "<table class=\"simpletable\">\n",
       "<caption>OLS Regression Results</caption>\n",
       "<tr>\n",
       "  <th>Dep. Variable:</th>      <td>np.log(PRICE)</td>  <th>  R-squared:         </th> <td>   0.515</td>\n",
       "</tr>\n",
       "<tr>\n",
       "  <th>Model:</th>                   <td>OLS</td>       <th>  Adj. R-squared:    </th> <td>   0.513</td>\n",
       "</tr>\n",
       "<tr>\n",
       "  <th>Method:</th>             <td>Least Squares</td>  <th>  F-statistic:       </th> <td>   299.0</td>\n",
       "</tr>\n",
       "<tr>\n",
       "  <th>Date:</th>             <td>Fri, 16 Jun 2017</td> <th>  Prob (F-statistic):</th>  <td>  0.00</td> \n",
       "</tr>\n",
       "<tr>\n",
       "  <th>Time:</th>                 <td>19:49:09</td>     <th>  Log-Likelihood:    </th> <td> -551.28</td>\n",
       "</tr>\n",
       "<tr>\n",
       "  <th>No. Observations:</th>      <td>  2261</td>      <th>  AIC:               </th> <td>   1121.</td>\n",
       "</tr>\n",
       "<tr>\n",
       "  <th>Df Residuals:</th>          <td>  2252</td>      <th>  BIC:               </th> <td>   1172.</td>\n",
       "</tr>\n",
       "<tr>\n",
       "  <th>Df Model:</th>              <td>     8</td>      <th>                     </th>     <td> </td>   \n",
       "</tr>\n",
       "<tr>\n",
       "  <th>Covariance Type:</th>      <td>nonrobust</td>    <th>                     </th>     <td> </td>   \n",
       "</tr>\n",
       "</table>\n",
       "<table class=\"simpletable\">\n",
       "<tr>\n",
       "                                 <td></td>                                    <th>coef</th>     <th>std err</th>      <th>t</th>      <th>P>|t|</th>  <th>[0.025</th>    <th>0.975]</th>  \n",
       "</tr>\n",
       "<tr>\n",
       "  <th>Intercept</th>                                                       <td> -109.5154</td> <td>    6.520</td> <td>  -16.798</td> <td> 0.000</td> <td> -122.300</td> <td>  -96.730</td>\n",
       "</tr>\n",
       "<tr>\n",
       "  <th>C(LOCATION_recode, Treatment(reference='Glenview'))[T.Oakmore]</th>  <td>    0.0597</td> <td>    0.039</td> <td>    1.517</td> <td> 0.129</td> <td>   -0.017</td> <td>    0.137</td>\n",
       "</tr>\n",
       "<tr>\n",
       "  <th>C(LOCATION_recode, Treatment(reference='Glenview'))[T.Other]</th>    <td>    0.0108</td> <td>    0.026</td> <td>    0.416</td> <td> 0.677</td> <td>   -0.040</td> <td>    0.062</td>\n",
       "</tr>\n",
       "<tr>\n",
       "  <th>C(LOCATION_recode, Treatment(reference='Glenview'))[T.Piedmont]</th> <td>    0.3554</td> <td>    0.029</td> <td>   12.166</td> <td> 0.000</td> <td>    0.298</td> <td>    0.413</td>\n",
       "</tr>\n",
       "<tr>\n",
       "  <th>sqft_100</th>                                                        <td>    0.0012</td> <td>    0.000</td> <td>    3.647</td> <td> 0.000</td> <td>    0.001</td> <td>    0.002</td>\n",
       "</tr>\n",
       "<tr>\n",
       "  <th>bldg_age_at_sale</th>                                                <td>    0.0006</td> <td>    0.000</td> <td>    2.195</td> <td> 0.028</td> <td>  6.3e-05</td> <td>    0.001</td>\n",
       "</tr>\n",
       "<tr>\n",
       "  <th>year</th>                                                            <td>    0.0609</td> <td>    0.003</td> <td>   18.783</td> <td> 0.000</td> <td>    0.055</td> <td>    0.067</td>\n",
       "</tr>\n",
       "<tr>\n",
       "  <th>BATHS</th>                                                           <td>    0.1947</td> <td>    0.010</td> <td>   20.036</td> <td> 0.000</td> <td>    0.176</td> <td>    0.214</td>\n",
       "</tr>\n",
       "<tr>\n",
       "  <th>BEDS</th>                                                            <td>    0.0309</td> <td>    0.009</td> <td>    3.304</td> <td> 0.001</td> <td>    0.013</td> <td>    0.049</td>\n",
       "</tr>\n",
       "</table>\n",
       "<table class=\"simpletable\">\n",
       "<tr>\n",
       "  <th>Omnibus:</th>       <td>177.734</td> <th>  Durbin-Watson:     </th> <td>   1.405</td>\n",
       "</tr>\n",
       "<tr>\n",
       "  <th>Prob(Omnibus):</th> <td> 0.000</td>  <th>  Jarque-Bera (JB):  </th> <td> 266.338</td>\n",
       "</tr>\n",
       "<tr>\n",
       "  <th>Skew:</th>          <td>-0.618</td>  <th>  Prob(JB):          </th> <td>1.46e-58</td>\n",
       "</tr>\n",
       "<tr>\n",
       "  <th>Kurtosis:</th>      <td> 4.141</td>  <th>  Cond. No.          </th> <td>2.02e+06</td>\n",
       "</tr>\n",
       "</table>"
      ],
      "text/plain": [
       "<class 'statsmodels.iolib.summary.Summary'>\n",
       "\"\"\"\n",
       "                            OLS Regression Results                            \n",
       "==============================================================================\n",
       "Dep. Variable:          np.log(PRICE)   R-squared:                       0.515\n",
       "Model:                            OLS   Adj. R-squared:                  0.513\n",
       "Method:                 Least Squares   F-statistic:                     299.0\n",
       "Date:                Fri, 16 Jun 2017   Prob (F-statistic):               0.00\n",
       "Time:                        19:49:09   Log-Likelihood:                -551.28\n",
       "No. Observations:                2261   AIC:                             1121.\n",
       "Df Residuals:                    2252   BIC:                             1172.\n",
       "Df Model:                           8                                         \n",
       "Covariance Type:            nonrobust                                         \n",
       "===================================================================================================================================\n",
       "                                                                      coef    std err          t      P>|t|      [0.025      0.975]\n",
       "-----------------------------------------------------------------------------------------------------------------------------------\n",
       "Intercept                                                        -109.5154      6.520    -16.798      0.000    -122.300     -96.730\n",
       "C(LOCATION_recode, Treatment(reference='Glenview'))[T.Oakmore]      0.0597      0.039      1.517      0.129      -0.017       0.137\n",
       "C(LOCATION_recode, Treatment(reference='Glenview'))[T.Other]        0.0108      0.026      0.416      0.677      -0.040       0.062\n",
       "C(LOCATION_recode, Treatment(reference='Glenview'))[T.Piedmont]     0.3554      0.029     12.166      0.000       0.298       0.413\n",
       "sqft_100                                                            0.0012      0.000      3.647      0.000       0.001       0.002\n",
       "bldg_age_at_sale                                                    0.0006      0.000      2.195      0.028     6.3e-05       0.001\n",
       "year                                                                0.0609      0.003     18.783      0.000       0.055       0.067\n",
       "BATHS                                                               0.1947      0.010     20.036      0.000       0.176       0.214\n",
       "BEDS                                                                0.0309      0.009      3.304      0.001       0.013       0.049\n",
       "==============================================================================\n",
       "Omnibus:                      177.734   Durbin-Watson:                   1.405\n",
       "Prob(Omnibus):                  0.000   Jarque-Bera (JB):              266.338\n",
       "Skew:                          -0.618   Prob(JB):                     1.46e-58\n",
       "Kurtosis:                       4.141   Cond. No.                     2.02e+06\n",
       "==============================================================================\n",
       "\n",
       "Warnings:\n",
       "[1] Standard Errors assume that the covariance matrix of the errors is correctly specified.\n",
       "[2] The condition number is large, 2.02e+06. This might indicate that there are\n",
       "strong multicollinearity or other numerical problems.\n",
       "\"\"\""
      ]
     },
     "execution_count": 466,
     "metadata": {},
     "output_type": "execute_result"
    }
   ],
   "source": [
    "## Version treating neighborhoods as contrasts relative to Glenview as base category\n",
    "\n",
    "sm_ols_contrast_a = sm.ols(\"np.log(PRICE) ~%s+ C(LOCATION_recode, Treatment(reference='Glenview'))\"%'+'.join(xvars_num), \n",
    "                  data=subset).fit()\n",
    "sm_ols_contrast_a.summary()"
   ]
  },
  {
   "cell_type": "code",
   "execution_count": 467,
   "metadata": {
    "collapsed": false
   },
   "outputs": [],
   "source": [
    "import re\n"
   ]
  },
  {
   "cell_type": "markdown",
   "metadata": {},
   "source": [
    "## Lagged models\n",
    "\n",
    "Check how much spatial autocorrelation is present in the data. That is, how much is location likely to have a bearing on the observed valuation? If location contains considerable information on the sales price, errors are not independently distributed, violating terms of the OLS estiator. \n",
    "\n",
    "One way ot check is $Moran's~I$, which compares values to nearby (lagged) values: how correllated are values with neighbors?"
   ]
  },
  {
   "cell_type": "code",
   "execution_count": 468,
   "metadata": {
    "collapsed": true
   },
   "outputs": [],
   "source": [
    "#coeffs={}\n",
    "moran={}"
   ]
  },
  {
   "cell_type": "code",
   "execution_count": 469,
   "metadata": {
    "collapsed": false
   },
   "outputs": [
    {
     "data": {
      "image/png": "[encoded data removed]",
      "text/plain": [
       "<matplotlib.figure.Figure at 0x2467e668>"
      ]
     },
     "metadata": {},
     "output_type": "display_data"
    }
   ],
   "source": [
    "## the slope of the regression line here is equivalent to the Moran's I statistic. There appears to be a pattern:\n",
    "## high prices (i.e. high z) tend to correlate with *lagged* high prices--and lagged high prices mean neighbors per the\n",
    "## weights matrix.\n",
    "\n",
    "morandict = {'I':'Morans I statistic',\n",
    "'vI':'Morans I variance',\n",
    "'eI':'Morans I expectation',\n",
    "'zI':'Morans I standardized value',\n",
    "'p_norm':'P-value'}\n",
    "\n",
    "def moranplotter():\n",
    "    mor = ps.Moran(y=np.log(subset.PRICE).values, w=w, transformation = 'r',)\n",
    "    zx = mor.z\n",
    "    zy = ps.lag_spatial(w, mor.z)\n",
    "    fit = ps.spreg.OLS(zy[:, None], zx[:,None])\n",
    "    ax = sns.regplot(x=zx, y=zy)\n",
    "    ax.set(xlabel='z-value of I', ylabel='Lagged z-value of I')\n",
    "    title('Moran\\'s I: {moran_i:03.2f}; Moran\\'s Expected I: {moran_ei:03.2f}'.format(moran_i=mor.I,moran_ei=mor.EI))\n",
    "moranplotter()"
   ]
  },
  {
   "cell_type": "markdown",
   "metadata": {},
   "source": [
    "## Run models and store output in dict for comparison"
   ]
  },
  {
   "cell_type": "code",
   "execution_count": 470,
   "metadata": {
    "collapsed": true
   },
   "outputs": [],
   "source": [
    "coeffs={}\n",
    "\n",
    "\n",
    "y,X = patsy.dmatrices(\"np.log(PRICE) ~%s+ C(LOCATION_recode, Treatment(reference='Glenview'))\"%'+'.join(xvars_num), \n",
    "                  data=subset,return_type='dataframe')\n",
    "\n",
    "## design matrix version\n",
    "sm_ols_contrast_b = sm.OLS(y, X).fit(cov_type='HC3')\n",
    "\n",
    "## tokenize location to get just the actual name--extract from unwieldy string\n",
    "## both lookahead and lookbehind--get content wrapped between T. and ]\n",
    "\n",
    "ptrn = '(?<=T\\.)(.*?)(?=\\])' \n",
    "m=re.compile(ptrn)\n",
    "sm_ols_contrast_b_params={}\n",
    "sm_ols_contrast_b_tvalues={}\n",
    "for k,v in sm_ols_contrast_b.params.to_dict().iteritems():\n",
    "    if 'Treatment' in k and 'LOCATION' in k:\n",
    "        sm_ols_contrast_b_params[m.search(k).group()]=v\n",
    "    else:\n",
    "        sm_ols_contrast_b_params[k]=v\n",
    "for k,v in sm_ols_contrast_b.tvalues.to_dict().iteritems():\n",
    "    if 'Treatment' in k and 'LOCATION' in k:\n",
    "        sm_ols_contrast_b_tvalues[m.search(k).group()]=v\n",
    "    else:\n",
    "        sm_ols_contrast_b_tvalues[k]=v\n",
    "        \n",
    "\n",
    "coeffs[('0: sm_ols_contrast','params')]=pd.Series(sm_ols_contrast_b_params).rename(index={'Intercept':'CONSTANT'})\n",
    "coeffs[('0: sm_ols_contrast','tstats')]=pd.Series(sm_ols_contrast_b_tvalues).rename(index={'Intercept':'CONSTANT'})\n",
    "\n",
    "## dummy version instead--notice the R squared in the .29 territory as opposed to .66 for the contrast version\n",
    "\n",
    "sm_ols_dummy = sm.ols(\"np.log(PRICE) ~%s\"%'+'.join(xvars_num+fulldummylist), \n",
    "                  data=subset).fit(cov_type='HC3')\n",
    "\n",
    "ptrn2 = '(?<=LOCATION\\_recode\\_)(.*)' \n",
    "m=re.compile(ptrn2)\n",
    "sm_ols_dummy_params={}\n",
    "sm_ols_dummy_tvalues={}\n",
    "\n",
    "for k,v in sm_ols_dummy.params.to_dict().iteritems():\n",
    "    if k.startswith('LOCATION'):\n",
    "        sm_ols_dummy_params[m.search(k).group()]=v\n",
    "    else:\n",
    "        sm_ols_dummy_params[k]=v\n",
    "for k,v in sm_ols_dummy.tvalues.to_dict().iteritems():\n",
    "    if k.startswith('LOCATION'):\n",
    "        sm_ols_dummy_tvalues[m.search(k).group()]=v\n",
    "    else:\n",
    "        sm_ols_dummy_tvalues[k]=v\n",
    "\n",
    "coeffs[('1: sm_ols_dummy','params')]=pd.Series(sm_ols_dummy_params).rename(index={'Intercept':'CONSTANT'})\n",
    "coeffs[('1: sm_ols_dummy','tstats')]=pd.Series(sm_ols_dummy_tvalues).rename(index={'Intercept':'CONSTANT'})"
   ]
  },
  {
   "cell_type": "code",
   "execution_count": 471,
   "metadata": {
    "collapsed": false
   },
   "outputs": [],
   "source": [
    "## pysal plain\n",
    "ps_ols = ps.spreg.OLS(np.log(subset.PRICE).values[:, None], \n",
    "          subset[xvars_num+fulldummylist].values, \\\n",
    "          w=w, \n",
    "                  spat_diag=True, \\\n",
    "          name_x=subset[xvars_num+fulldummylist].columns.tolist(), name_y='ln(price)') \n",
    "ps_ols_x=[x.replace('LOCATION_recode_','') if x.startswith('LOCATION') else x for x in ps_ols.name_x]\n",
    "\n",
    "coeffs[('2: ps_ols','params')]=pd.Series(ps_ols.betas[:,0],index=ps_ols_x)\n",
    "coeffs[('2: ps_ols','tstats')]=pd.Series(pd.DataFrame(ps_ols.t_stat)[0].values,index=ps_ols_x)\n"
   ]
  },
  {
   "cell_type": "code",
   "execution_count": 474,
   "metadata": {
    "collapsed": false
   },
   "outputs": [
    {
     "name": "stdout",
     "output_type": "stream",
     "text": [
      "REGRESSION\n",
      "----------\n",
      "SUMMARY OF OUTPUT: SPATIAL TWO STAGE LEAST SQUARES\n",
      "--------------------------------------------------\n",
      "Data set            :     unknown\n",
      "Weights matrix      :     unknown\n",
      "Dependent Variable  :   ln(price)                Number of Observations:        2261\n",
      "Mean dependent var  :     13.8762                Number of Variables   :          10\n",
      "S.D. dependent var  :      0.4435                Degrees of Freedom    :        2251\n",
      "Pseudo R-squared    :      0.6976\n",
      "Spatial Pseudo R-squared:  0.5445\n",
      "\n",
      "------------------------------------------------------------------------------------\n",
      "            Variable     Coefficient       Std.Error     z-Statistic     Probability\n",
      "------------------------------------------------------------------------------------\n",
      "            CONSTANT    -109.3434312       5.1738703     -21.1337788       0.0000000\n",
      "            sqft_100       0.0009466       0.0002515       3.7632729       0.0001677\n",
      "    bldg_age_at_sale       0.0007054       0.0002134       3.3053193       0.0009487\n",
      "                year       0.0580894       0.0025791      22.5228872       0.0000000\n",
      "               BATHS       0.1521414       0.0082562      18.4275346       0.0000000\n",
      "                BEDS       0.0332911       0.0074326       4.4790508       0.0000075\n",
      "LOCATION_recode_Oakmore      -0.0618972       0.0323433      -1.9137556       0.0556514\n",
      "LOCATION_recode_Other      -0.0988069       0.0219495      -4.5015499       0.0000067\n",
      "LOCATION_recode_Piedmont       0.0939785       0.0294258       3.1937410       0.0014044\n",
      "         W_ln(price)       0.4075004       0.0282547      14.4223882       0.0000000\n",
      "------------------------------------------------------------------------------------\n",
      "Instrumented: W_ln(price)\n",
      "Instruments: W_BATHS, W_BEDS, W_LOCATION_recode_Oakmore,\n",
      "             W_LOCATION_recode_Other, W_LOCATION_recode_Piedmont,\n",
      "             W_bldg_age_at_sale, W_sqft_100, W_year\n",
      "\n",
      "DIAGNOSTICS FOR SPATIAL DEPENDENCE\n",
      "TEST                           MI/DF       VALUE           PROB\n",
      "Anselin-Kelejian Test             1          17.451          0.0000\n",
      "================================ END OF REPORT =====================================\n"
     ]
    }
   ],
   "source": [
    "## endogenous lag--pysal uses moments to estimate since it violates OLS rules\n",
    "\n",
    "ps_lag = ps.spreg.GM_Lag(y=np.log(subset.PRICE).values[:, None], \n",
    "                         x=subset[xvars_num+fulldummylist].values, \\\n",
    "                  w=w, spat_diag=True, \\\n",
    "                  name_x=subset[xvars_num+fulldummylist].columns.tolist(), name_y='ln(price)') \n",
    "\n",
    "ps_lag_x=[x.replace('LOCATION_recode_','') if x.startswith('LOCATION') else x for x in ps_lag.name_x]+['_lag_y']\n",
    "\n",
    "coeffs[('3: ps_gm_endog','params')]=pd.Series(ps_lag.betas[:,0],index=ps_lag_x)\n",
    "coeffs[('3: ps_gm_endog','tstats')]=pd.Series(pd.DataFrame(ps_lag.z_stat)[0].values,index=ps_lag_x)\n",
    "print ps_lag.summary"
   ]
  },
  {
   "cell_type": "markdown",
   "metadata": {},
   "source": [
    "### Compare parameters for the approaches"
   ]
  },
  {
   "cell_type": "markdown",
   "metadata": {},
   "source": [
    "All the diagnostics for spatial dependence for RESIDUAL spatial autocorrelation, after controlling for covariates, are significant."
   ]
  },
  {
   "cell_type": "code",
   "execution_count": 477,
   "metadata": {
    "collapsed": false
   },
   "outputs": [
    {
     "data": {
      "text/html": [
       "<div>\n",
       "<table border=\"1\" class=\"dataframe\">\n",
       "  <thead>\n",
       "    <tr style=\"text-align: right;\">\n",
       "      <th>model</th>\n",
       "      <th>0: sm_ols_contrast</th>\n",
       "      <th>1: sm_ols_dummy</th>\n",
       "      <th>2: ps_ols</th>\n",
       "      <th>3: ps_gm_endog</th>\n",
       "    </tr>\n",
       "    <tr>\n",
       "      <th>parameter</th>\n",
       "      <th></th>\n",
       "      <th></th>\n",
       "      <th></th>\n",
       "      <th></th>\n",
       "    </tr>\n",
       "  </thead>\n",
       "  <tbody>\n",
       "    <tr>\n",
       "      <th>CONSTANT</th>\n",
       "      <td>-109.515364</td>\n",
       "      <td>-109.515364</td>\n",
       "      <td>-109.515364</td>\n",
       "      <td>-109.343431</td>\n",
       "    </tr>\n",
       "    <tr>\n",
       "      <th>Other</th>\n",
       "      <td>0.010794</td>\n",
       "      <td>0.010794</td>\n",
       "      <td>0.010794</td>\n",
       "      <td>-0.098807</td>\n",
       "    </tr>\n",
       "    <tr>\n",
       "      <th>Oakmore</th>\n",
       "      <td>0.059682</td>\n",
       "      <td>0.059682</td>\n",
       "      <td>0.059682</td>\n",
       "      <td>-0.061897</td>\n",
       "    </tr>\n",
       "    <tr>\n",
       "      <th>bldg_age_at_sale</th>\n",
       "      <td>0.000590</td>\n",
       "      <td>0.000590</td>\n",
       "      <td>0.000590</td>\n",
       "      <td>0.000705</td>\n",
       "    </tr>\n",
       "    <tr>\n",
       "      <th>sqft_100</th>\n",
       "      <td>0.001154</td>\n",
       "      <td>0.001154</td>\n",
       "      <td>0.001154</td>\n",
       "      <td>0.000947</td>\n",
       "    </tr>\n",
       "    <tr>\n",
       "      <th>BEDS</th>\n",
       "      <td>0.030937</td>\n",
       "      <td>0.030937</td>\n",
       "      <td>0.030937</td>\n",
       "      <td>0.033291</td>\n",
       "    </tr>\n",
       "    <tr>\n",
       "      <th>year</th>\n",
       "      <td>0.060874</td>\n",
       "      <td>0.060874</td>\n",
       "      <td>0.060874</td>\n",
       "      <td>0.058089</td>\n",
       "    </tr>\n",
       "    <tr>\n",
       "      <th>Piedmont</th>\n",
       "      <td>0.355385</td>\n",
       "      <td>0.355385</td>\n",
       "      <td>0.355385</td>\n",
       "      <td>0.093978</td>\n",
       "    </tr>\n",
       "    <tr>\n",
       "      <th>BATHS</th>\n",
       "      <td>0.194689</td>\n",
       "      <td>0.194689</td>\n",
       "      <td>0.194689</td>\n",
       "      <td>0.152141</td>\n",
       "    </tr>\n",
       "    <tr>\n",
       "      <th>_lag_y</th>\n",
       "      <td>NaN</td>\n",
       "      <td>NaN</td>\n",
       "      <td>NaN</td>\n",
       "      <td>0.407500</td>\n",
       "    </tr>\n",
       "  </tbody>\n",
       "</table>\n",
       "</div>"
      ],
      "text/plain": [
       "model             0: sm_ols_contrast  1: sm_ols_dummy   2: ps_ols  \\\n",
       "parameter                                                           \n",
       "CONSTANT                 -109.515364      -109.515364 -109.515364   \n",
       "Other                       0.010794         0.010794    0.010794   \n",
       "Oakmore                     0.059682         0.059682    0.059682   \n",
       "bldg_age_at_sale            0.000590         0.000590    0.000590   \n",
       "sqft_100                    0.001154         0.001154    0.001154   \n",
       "BEDS                        0.030937         0.030937    0.030937   \n",
       "year                        0.060874         0.060874    0.060874   \n",
       "Piedmont                    0.355385         0.355385    0.355385   \n",
       "BATHS                       0.194689         0.194689    0.194689   \n",
       "_lag_y                           NaN              NaN         NaN   \n",
       "\n",
       "model             3: ps_gm_endog  \n",
       "parameter                         \n",
       "CONSTANT             -109.343431  \n",
       "Other                  -0.098807  \n",
       "Oakmore                -0.061897  \n",
       "bldg_age_at_sale        0.000705  \n",
       "sqft_100                0.000947  \n",
       "BEDS                    0.033291  \n",
       "year                    0.058089  \n",
       "Piedmont                0.093978  \n",
       "BATHS                   0.152141  \n",
       "_lag_y                  0.407500  "
      ]
     },
     "execution_count": 477,
     "metadata": {},
     "output_type": "execute_result"
    }
   ],
   "source": [
    "combomodels = pd.concat(coeffs).reset_index(name='value').\\\n",
    "rename(columns={'level_0':'model', 'level_1':'variable','level_2':'parameter'}).\\\n",
    "set_index(['model','variable','parameter']).unstack(level=['variable','model']).value.sort_index(axis=1)\n",
    "combomodels.params.sort_values('3: ps_gm_endog')"
   ]
  },
  {
   "cell_type": "code",
   "execution_count": 476,
   "metadata": {
    "collapsed": false
   },
   "outputs": [],
   "source": [
    "# ps.lag_spatial(w,y)\n",
    "\n",
    "# X_v = X.assign(w_pool=ps.lag_spatial(w_pool, yxs['pool'].values))"
   ]
  },
  {
   "cell_type": "code",
   "execution_count": null,
   "metadata": {
    "collapsed": true
   },
   "outputs": [],
   "source": []
  }
 ],
 "metadata": {
  "kernelspec": {
   "display_name": "Python 2",
   "language": "python",
   "name": "python2"
  },
  "language_info": {
   "codemirror_mode": {
    "name": "ipython",
    "version": 2
   },
   "file_extension": ".py",
   "mimetype": "text/x-python",
   "name": "python",
   "nbconvert_exporter": "python",
   "pygments_lexer": "ipython2",
   "version": "2.7.13"
  }
 },
 "nbformat": 4,
 "nbformat_minor": 1
}
